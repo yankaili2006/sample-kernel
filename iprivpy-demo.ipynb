{
 "cells": [
  {
   "cell_type": "code",
   "execution_count": 1,
   "metadata": {},
   "outputs": [
    {
     "name": "stdout",
     "output_type": "stream",
     "text": [
      "[NzMwNDU5MzUzMjU3MDgyODgw] bind successed! 801fab4f-54c3-4551-b21c-e371365dce15"
     ]
    }
   ],
   "source": [
    "%bind --task='bi_test1' --sources=['cipher://liyankai1-c1/user/accountA'] --debug_dest_id='datamarket-local-ds'"
   ]
  },
  {
   "cell_type": "code",
   "execution_count": 2,
   "metadata": {},
   "outputs": [
    {
     "name": "stdout",
     "output_type": "stream",
     "text": [
      "success[{'varname': '_DEBUG_RESULT_KEY_0', 'data': '[[10010,0,28,8808762,19902163,696],[10011,1,39,8808008,19921203,508],[10012,0,25,8808859,19821955,279],[10013,1,29,8808678,19840016,916],[10014,0,46,8808030,19923965,664],[10015,1,34,8808018,19931494,623],[10016,0,26,8808788,19987617,903],[10017,1,35,8808728,19991878,594],[10018,0,36,8808488,19897207,921],[10019,1,27,8808418,19946599,355]]', 'codeSeq': 0}]"
     ]
    }
   ],
   "source": [
    "import privpy as pp\n",
    "data = pp.ss('cipher://liyankai1-c1/user/accountA')\n",
    "pp.debug_reveal(data[:10])"
   ]
  },
  {
   "cell_type": "code",
   "execution_count": 3,
   "metadata": {},
   "outputs": [
    {
     "name": "stdout",
     "output_type": "stream",
     "text": [
      "[None] quit successed!"
     ]
    }
   ],
   "source": [
    "%quit"
   ]
  },
  {
   "cell_type": "code",
   "execution_count": null,
   "metadata": {},
   "outputs": [],
   "source": []
  }
 ],
 "metadata": {
  "TEST": "hex-digest",
  "kernel_info": {
   "name": "the name of the kernel"
  },
  "kernelspec": {
   "display_name": "IPrivpy",
   "language": "python",
   "name": "iprivpy"
  },
  "language_info": {
   "file_extension": ".py",
   "mimetype": "text/x-python",
   "name": "python"
  }
 },
 "nbformat": 4,
 "nbformat_minor": 4
}
