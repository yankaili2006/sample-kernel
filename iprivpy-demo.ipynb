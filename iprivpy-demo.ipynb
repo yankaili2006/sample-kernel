{
 "cells": [
  {
   "cell_type": "code",
   "execution_count": 3,
   "metadata": {},
   "outputs": [
    {
     "name": "stdout",
     "output_type": "stream",
     "text": [
      "[NzMwMTUzMDQwNjk0MjE0NjU2] bind successed! b447c166-2de9-4a17-b553-2b78d2dc369a"
     ]
    }
   ],
   "source": [
    "%bind --task='bi_test1' --sources=['cipher://liyankai1-c1/user/accountA'] --debug_dest_id='liyankai1-c1'"
   ]
  },
  {
   "cell_type": "code",
   "execution_count": 4,
   "metadata": {},
   "outputs": [
    {
     "name": "stdout",
     "output_type": "stream",
     "text": [
      "successexecution fails.RequestId:NzMwMTUzMDQwNjk0MjE0NjU2 get code nonExist times > max retry times!"
     ]
    }
   ],
   "source": [
    "import privpy as pp\n",
    "data = pp.ss('cipher://liyankai1-c1/user/accountA')\n",
    "pp.debug_reveal(data[:10])"
   ]
  },
  {
   "cell_type": "code",
   "execution_count": 5,
   "metadata": {},
   "outputs": [
    {
     "name": "stdout",
     "output_type": "stream",
     "text": [
      "[None] quit successed!"
     ]
    }
   ],
   "source": [
    "%quit"
   ]
  }
 ],
 "metadata": {
  "TEST": "hex-digest",
  "kernel_info": {
   "name": "the name of the kernel"
  },
  "kernelspec": {
   "display_name": "IPrivpy",
   "language": "python",
   "name": "iprivpy"
  },
  "language_info": {
   "file_extension": ".py",
   "mimetype": "text/x-python",
   "name": "python"
  }
 },
 "nbformat": 4,
 "nbformat_minor": 4
}
