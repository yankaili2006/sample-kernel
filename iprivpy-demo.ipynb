{
 "cells": [
  {
   "cell_type": "code",
   "execution_count": 1,
   "metadata": {},
   "outputs": [
    {
     "name": "stdout",
     "output_type": "stream",
     "text": [
      "[NzMwNDU1NzcxMTExNzUxNjgw] bind successed! 04da1d20-f927-45d1-824c-60beaa571442"
     ]
    }
   ],
   "source": [
    "%bind --task='bi_test1' --sources=['cipher://liyankai1-c1/user/accountA'] --debug_dest_id='datamarket-local-ds'"
   ]
  },
  {
   "cell_type": "code",
   "execution_count": 2,
   "metadata": {},
   "outputs": [
    {
     "name": "stdout",
     "output_type": "stream",
     "text": [
      "successexecution fails.Try to connect ds,11 times,but failed! error:rpc error: code = Unavailable desc = connection error: desc = \"transport: Error while dialing dial tcp: lookup datamarket-local-ds on 10.96.0.10:53: no such host\""
     ]
    }
   ],
   "source": [
    "import privpy as pp\n",
    "data = pp.ss('cipher://liyankai1-c1/user/accountA')\n",
    "pp.debug_reveal(data[:10])"
   ]
  },
  {
   "cell_type": "code",
   "execution_count": 5,
   "metadata": {},
   "outputs": [
    {
     "name": "stdout",
     "output_type": "stream",
     "text": [
      "[None] quit successed!"
     ]
    }
   ],
   "source": [
    "%quit"
   ]
  }
 ],
 "metadata": {
  "TEST": "hex-digest",
  "kernel_info": {
   "name": "the name of the kernel"
  },
  "kernelspec": {
   "display_name": "IPrivpy",
   "language": "python",
   "name": "iprivpy"
  },
  "language_info": {
   "file_extension": ".py",
   "mimetype": "text/x-python",
   "name": "python"
  }
 },
 "nbformat": 4,
 "nbformat_minor": 4
}
